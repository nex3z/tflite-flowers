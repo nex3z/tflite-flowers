{
  "nbformat": 4,
  "nbformat_minor": 0,
  "metadata": {
    "accelerator": "GPU",
    "colab": {
      "name": "mobilenet_v2_convert.ipynb",
      "provenance": [],
      "collapsed_sections": [],
      "toc_visible": true
    },
    "kernelspec": {
      "display_name": "Python 3",
      "language": "python",
      "name": "python3"
    },
    "language_info": {
      "codemirror_mode": {
        "name": "ipython",
        "version": 3
      },
      "file_extension": ".py",
      "mimetype": "text/x-python",
      "name": "python",
      "nbconvert_exporter": "python",
      "pygments_lexer": "ipython3",
      "version": "3.7.7"
    }
  },
  "cells": [
    {
      "cell_type": "code",
      "metadata": {
        "colab_type": "code",
        "id": "UGqo15rxeaLd",
        "colab": {}
      },
      "source": [
        "import os\n",
        "import sys\n",
        "\n",
        "import numpy as np\n",
        "import tensorflow as tf\n",
        "import tensorflow_datasets as tfds\n",
        "from tensorflow.keras.applications.mobilenet_v2 import preprocess_input\n",
        "from tqdm import tqdm"
      ],
      "execution_count": null,
      "outputs": []
    },
    {
      "cell_type": "code",
      "metadata": {
        "colab_type": "code",
        "id": "tfJUD54fGMR6",
        "colab": {}
      },
      "source": [
        "SAVED_MODEL_DIR = './saved_model'\n",
        "OUTPUT_DIR = './tflite_model'\n",
        "INPUT_SIZE = 224"
      ],
      "execution_count": null,
      "outputs": []
    },
    {
      "cell_type": "code",
      "metadata": {
        "id": "ywejzQWx8rj9",
        "colab_type": "code",
        "colab": {}
      },
      "source": [
        "os.makedirs(OUTPUT_DIR, exist_ok=True)"
      ],
      "execution_count": null,
      "outputs": []
    },
    {
      "cell_type": "code",
      "metadata": {
        "id": "cONBfvhbEiDa",
        "colab_type": "code",
        "colab": {}
      },
      "source": [
        "(train_data_ds, val_data_ds), metadata = tfds.load(\n",
        "    name='tf_flowers',\n",
        "    split=['train[:90%]', 'train[90%:]'],\n",
        "    with_info=True,\n",
        "    as_supervised=True,\n",
        ")"
      ],
      "execution_count": null,
      "outputs": []
    },
    {
      "cell_type": "code",
      "metadata": {
        "id": "qtSTZrP-LHHp",
        "colab_type": "code",
        "colab": {}
      },
      "source": [
        "def center_crop(image, label):\n",
        "    image = tf.cast(image, tf.float32)\n",
        "    shape = tf.shape(image)\n",
        "    height, width = shape[0], shape[1]\n",
        "    size = tf.minimum(height, width)\n",
        "    image = tf.image.crop_to_bounding_box(image, (height - size) // 2, (width - size) // 2, size, size)\n",
        "    return image, label\n",
        "\n",
        "def resize_and_rescale(image, label):\n",
        "    image = tf.image.resize(image, [INPUT_SIZE, INPUT_SIZE])\n",
        "    image = preprocess_input(image)\n",
        "    return image, label\n",
        "\n",
        "val_ds = (\n",
        "    val_data_ds\n",
        "    .map(center_crop)\n",
        "    .map(resize_and_rescale)\n",
        "    .batch(1)\n",
        ")"
      ],
      "execution_count": null,
      "outputs": []
    },
    {
      "cell_type": "code",
      "metadata": {
        "id": "5LBQGOpbwBC3",
        "colab_type": "code",
        "colab": {}
      },
      "source": [
        "def evaluate_tflite_model(model_path, val_ds):\n",
        "    interpreter = tf.lite.Interpreter(model_path=model_path)\n",
        "    interpreter.allocate_tensors()\n",
        "\n",
        "    input_details = interpreter.get_input_details()[0]\n",
        "    input_scale, input_zero_point = input_details[\"quantization\"]\n",
        "    print(f\"[input] dtype: {input_details['dtype']}, scale: {input_scale}, zero_point: {input_zero_point}\")\n",
        "\n",
        "    output_details = interpreter.get_output_details()[0]\n",
        "    output_scale, output_zero_point = output_details[\"quantization\"]\n",
        "    print(f\"[output] dtype: {output_details['dtype']}, scale: {output_scale}, zero_point: {output_zero_point}\")\n",
        "\n",
        "    count, acc = 0, 0\n",
        "    loop = tqdm(val_ds, ascii=True, file=sys.stdout)\n",
        "    for i, (image, label) in enumerate(loop):\n",
        "        if input_scale != 0:\n",
        "            image = image / input_scale + input_zero_point\n",
        "        image = image.numpy().astype(input_details['dtype'])\n",
        "        interpreter.set_tensor(input_details['index'], image)\n",
        "        interpreter.invoke()\n",
        "        predictions = interpreter.get_tensor(output_details['index'])\n",
        "        if output_scale != 0:\n",
        "            predictions = predictions * output_scale + output_zero_point\n",
        "\n",
        "        count += 1\n",
        "        if np.argmax(predictions) == label:\n",
        "            acc += 1\n",
        "        loop.set_postfix(acc=\"{:.4f}\".format(acc / count))\n",
        "\n",
        "    loop.close()\n",
        "    return acc / count"
      ],
      "execution_count": null,
      "outputs": []
    },
    {
      "cell_type": "markdown",
      "metadata": {
        "colab_type": "text",
        "id": "TlAhneCTaXPD"
      },
      "source": [
        "## No quantization"
      ]
    },
    {
      "cell_type": "code",
      "metadata": {
        "colab_type": "code",
        "id": "OJ8zE8rxE9S6",
        "colab": {}
      },
      "source": [
        "converter = tf.lite.TFLiteConverter.from_saved_model(SAVED_MODEL_DIR)\n",
        "tflite_model = converter.convert()\n",
        "\n",
        "model_path = os.path.join(OUTPUT_DIR, 'model.tflite')\n",
        "with open(model_path, 'wb') as f:\n",
        "    f.write(tflite_model)"
      ],
      "execution_count": null,
      "outputs": []
    },
    {
      "cell_type": "code",
      "metadata": {
        "colab_type": "code",
        "id": "nB-IyAwvTfw9",
        "colab": {
          "base_uri": "https://localhost:8080/",
          "height": 89
        },
        "outputId": "63f3e310-d610-43a9-b603-cae39a0d8641"
      },
      "source": [
        "evaluate_tflite_model(model_path, val_ds)"
      ],
      "execution_count": null,
      "outputs": [
        {
          "output_type": "stream",
          "text": [
            "[input] dtype: <class 'numpy.float32'>, scale: 0.0, zero_point: 0\n",
            "[output] dtype: <class 'numpy.float32'>, scale: 0.0, zero_point: 0\n",
            "367it [00:20, 18.08it/s, acc=0.9755]\n"
          ],
          "name": "stdout"
        },
        {
          "output_type": "execute_result",
          "data": {
            "text/plain": [
              "0.9754768392370572"
            ]
          },
          "metadata": {
            "tags": []
          },
          "execution_count": 8
        }
      ]
    },
    {
      "cell_type": "markdown",
      "metadata": {
        "colab_type": "text",
        "id": "z6s93Cp-acUJ"
      },
      "source": [
        "## Float16 quantization"
      ]
    },
    {
      "cell_type": "code",
      "metadata": {
        "colab_type": "code",
        "id": "OQT5DmJOHAuR",
        "colab": {}
      },
      "source": [
        "converter = tf.lite.TFLiteConverter.from_saved_model(SAVED_MODEL_DIR)\n",
        "converter.optimizations = [tf.lite.Optimize.DEFAULT]\n",
        "converter.target_spec.supported_types = [tf.float16]\n",
        "tflite_model = converter.convert()\n",
        "\n",
        "model_path = os.path.join(OUTPUT_DIR, 'model_float16.tflite')\n",
        "with open(model_path, 'wb') as f:\n",
        "    f.write(tflite_model)"
      ],
      "execution_count": null,
      "outputs": []
    },
    {
      "cell_type": "code",
      "metadata": {
        "colab_type": "code",
        "id": "Ni0HnPS8TrDw",
        "colab": {
          "base_uri": "https://localhost:8080/",
          "height": 89
        },
        "outputId": "dbe70cbd-150c-4b9a-8e34-4adbef610c82"
      },
      "source": [
        "evaluate_tflite_model(model_path, val_ds)"
      ],
      "execution_count": null,
      "outputs": [
        {
          "output_type": "stream",
          "text": [
            "[input] dtype: <class 'numpy.float32'>, scale: 0.0, zero_point: 0\n",
            "[output] dtype: <class 'numpy.float32'>, scale: 0.0, zero_point: 0\n",
            "367it [00:20, 18.31it/s, acc=0.9755]\n"
          ],
          "name": "stdout"
        },
        {
          "output_type": "execute_result",
          "data": {
            "text/plain": [
              "0.9754768392370572"
            ]
          },
          "metadata": {
            "tags": []
          },
          "execution_count": 10
        }
      ]
    },
    {
      "cell_type": "markdown",
      "metadata": {
        "colab_type": "text",
        "id": "Kjb0O6zVaDbz"
      },
      "source": [
        "## Dynamic range quantization"
      ]
    },
    {
      "cell_type": "code",
      "metadata": {
        "colab_type": "code",
        "id": "LIC1YmuYFqCz",
        "colab": {}
      },
      "source": [
        "converter = tf.lite.TFLiteConverter.from_saved_model(SAVED_MODEL_DIR)\n",
        "converter.optimizations = [tf.lite.Optimize.DEFAULT]\n",
        "tflite_model = converter.convert()\n",
        "\n",
        "model_path = os.path.join(OUTPUT_DIR, 'model_default.tflite')\n",
        "with open(model_path, 'wb') as f:\n",
        "    f.write(tflite_model)"
      ],
      "execution_count": null,
      "outputs": []
    },
    {
      "cell_type": "code",
      "metadata": {
        "colab_type": "code",
        "id": "xHHRUqpoTu5u",
        "colab": {
          "base_uri": "https://localhost:8080/",
          "height": 89
        },
        "outputId": "80f6f576-aea9-48bd-bb00-5be73735ab03"
      },
      "source": [
        "evaluate_tflite_model(model_path, val_ds)"
      ],
      "execution_count": null,
      "outputs": [
        {
          "output_type": "stream",
          "text": [
            "[input] dtype: <class 'numpy.float32'>, scale: 0.0, zero_point: 0\n",
            "[output] dtype: <class 'numpy.float32'>, scale: 0.0, zero_point: 0\n",
            "367it [00:41,  8.83it/s, acc=0.8856]\n"
          ],
          "name": "stdout"
        },
        {
          "output_type": "execute_result",
          "data": {
            "text/plain": [
              "0.885558583106267"
            ]
          },
          "metadata": {
            "tags": []
          },
          "execution_count": 12
        }
      ]
    },
    {
      "cell_type": "markdown",
      "metadata": {
        "colab_type": "text",
        "id": "WxHkxeqlaQCZ"
      },
      "source": [
        "## Integer quantization with float fallback"
      ]
    },
    {
      "cell_type": "code",
      "metadata": {
        "id": "QSu4ehgIhuyQ",
        "colab_type": "code",
        "colab": {}
      },
      "source": [
        "def representative_dataset_gen():\n",
        "    for image, _ in val_ds.take(100):\n",
        "        yield [image]"
      ],
      "execution_count": null,
      "outputs": []
    },
    {
      "cell_type": "code",
      "metadata": {
        "colab_type": "code",
        "id": "cziA2GnaH4FP",
        "colab": {}
      },
      "source": [
        "converter = tf.lite.TFLiteConverter.from_saved_model(SAVED_MODEL_DIR)\n",
        "converter.optimizations = [tf.lite.Optimize.DEFAULT]\n",
        "\n",
        "converter.representative_dataset = representative_dataset_gen\n",
        "tflite_model = converter.convert()\n",
        "\n",
        "model_path = os.path.join(OUTPUT_DIR, 'model_int8.tflite')\n",
        "with open(model_path, 'wb') as f:\n",
        "    f.write(tflite_model)"
      ],
      "execution_count": null,
      "outputs": []
    },
    {
      "cell_type": "code",
      "metadata": {
        "colab_type": "code",
        "id": "T3re1PstT00a",
        "colab": {
          "base_uri": "https://localhost:8080/",
          "height": 89
        },
        "outputId": "847e71aa-5348-4cd5-956d-9dc4a60b6382"
      },
      "source": [
        "evaluate_tflite_model(model_path, val_ds)"
      ],
      "execution_count": null,
      "outputs": [
        {
          "output_type": "stream",
          "text": [
            "[input] dtype: <class 'numpy.float32'>, scale: 0.0, zero_point: 0\n",
            "[output] dtype: <class 'numpy.float32'>, scale: 0.0, zero_point: 0\n",
            "367it [11:38,  1.90s/it, acc=0.9755]\n"
          ],
          "name": "stdout"
        },
        {
          "output_type": "execute_result",
          "data": {
            "text/plain": [
              "0.9754768392370572"
            ]
          },
          "metadata": {
            "tags": []
          },
          "execution_count": 15
        }
      ]
    },
    {
      "cell_type": "markdown",
      "metadata": {
        "id": "-mB9X3qapNwY",
        "colab_type": "text"
      },
      "source": [
        "## Integer-only quantization"
      ]
    },
    {
      "cell_type": "code",
      "metadata": {
        "id": "P43JQR2zpQ0V",
        "colab_type": "code",
        "colab": {}
      },
      "source": [
        "converter = tf.lite.TFLiteConverter.from_saved_model(SAVED_MODEL_DIR)\n",
        "converter.optimizations = [tf.lite.Optimize.DEFAULT]\n",
        "\n",
        "converter.representative_dataset = representative_dataset_gen\n",
        "converter.target_spec.supported_ops = [tf.lite.OpsSet.TFLITE_BUILTINS_INT8]\n",
        "converter.inference_input_type = tf.uint8\n",
        "converter.inference_output_type = tf.uint8\n",
        "\n",
        "tflite_model = converter.convert()\n",
        "\n",
        "model_path = os.path.join(OUTPUT_DIR, 'model_int8_only.tflite')\n",
        "with open(model_path, 'wb') as f:\n",
        "    f.write(tflite_model)"
      ],
      "execution_count": null,
      "outputs": []
    },
    {
      "cell_type": "code",
      "metadata": {
        "id": "L17m-bdkq-oR",
        "colab_type": "code",
        "colab": {
          "base_uri": "https://localhost:8080/",
          "height": 89
        },
        "outputId": "f6b5c86a-1065-4da7-fa18-1f04cf6f9997"
      },
      "source": [
        "evaluate_tflite_model(model_path, val_ds)"
      ],
      "execution_count": null,
      "outputs": [
        {
          "output_type": "stream",
          "text": [
            "[input] dtype: <class 'numpy.uint8'>, scale: 0.007843137718737125, zero_point: 127\n",
            "[output] dtype: <class 'numpy.uint8'>, scale: 0.00390625, zero_point: 0\n",
            "367it [11:39,  1.91s/it, acc=0.9755]\n"
          ],
          "name": "stdout"
        },
        {
          "output_type": "execute_result",
          "data": {
            "text/plain": [
              "0.9754768392370572"
            ]
          },
          "metadata": {
            "tags": []
          },
          "execution_count": 17
        }
      ]
    }
  ]
}