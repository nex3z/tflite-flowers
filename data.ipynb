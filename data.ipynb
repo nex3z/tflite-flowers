{
 "cells": [
  {
   "cell_type": "code",
   "execution_count": null,
   "metadata": {
    "colab": {},
    "colab_type": "code",
    "id": "K2H4TmaHFcwt"
   },
   "outputs": [],
   "source": [
    "import numpy as np\n",
    "import tensorflow as tf\n",
    "import tensorflow_datasets as tfds\n",
    "import matplotlib.pyplot as plt"
   ]
  },
  {
   "cell_type": "code",
   "execution_count": null,
   "metadata": {
    "colab": {},
    "colab_type": "code",
    "id": "UbFILnXDFtA1"
   },
   "outputs": [],
   "source": [
    "(train_data_ds, val_data_ds), metadata = tfds.load(\n",
    "    name='tf_flowers',\n",
    "    split=['train[:90%]', 'train[90%:]'],\n",
    "    with_info=True,\n",
    "    as_supervised=True,\n",
    ")\n",
    "\n",
    "num_classes = metadata.features['label'].num_classes\n",
    "get_label_name = metadata.features['label'].int2str"
   ]
  },
  {
   "cell_type": "code",
   "execution_count": null,
   "metadata": {
    "colab": {
     "base_uri": "https://localhost:8080/",
     "height": 564
    },
    "colab_type": "code",
    "id": "34NIdMx_HXh2",
    "outputId": "5072e2ba-3c6f-4f9f-97c9-0d395e8ff927"
   },
   "outputs": [],
   "source": [
    "num_images = 16\n",
    "num_col = 4\n",
    "num_row = np.ceil(num_images / num_col)\n",
    "\n",
    "plt.figure(figsize=(4 * num_col, 4 * num_row))\n",
    "for i, (image, label) in enumerate(train_data_ds.take(num_images)):\n",
    "    plt.subplot(num_row, num_col, i + 1)\n",
    "    plt.imshow(image)\n",
    "    plt.title(get_label_name(label))\n",
    "    plt.axis('off')\n",
    "\n",
    "plt.tight_layout()\n",
    "plt.show()"
   ]
  }
 ],
 "metadata": {
  "colab": {
   "collapsed_sections": [],
   "name": "data.ipynb",
   "provenance": []
  },
  "kernelspec": {
   "display_name": "Python 3",
   "language": "python",
   "name": "python3"
  },
  "language_info": {
   "codemirror_mode": {
    "name": "ipython",
    "version": 3
   },
   "file_extension": ".py",
   "mimetype": "text/x-python",
   "name": "python",
   "nbconvert_exporter": "python",
   "pygments_lexer": "ipython3",
   "version": "3.7.7"
  }
 },
 "nbformat": 4,
 "nbformat_minor": 4
}
