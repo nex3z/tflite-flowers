{
 "cells": [
  {
   "cell_type": "code",
   "execution_count": null,
   "metadata": {
    "colab": {
     "base_uri": "https://localhost:8080/",
     "height": 34
    },
    "colab_type": "code",
    "id": "GAlLx7waBPEH",
    "outputId": "fd96b0a9-216c-48ad-c6d6-8f1d67205b12"
   },
   "outputs": [],
   "source": [
    "import numpy as np\n",
    "import tensorflow as tf\n",
    "import tensorflow.keras.layers as layers\n",
    "import tensorflow_datasets as tfds\n",
    "from tensorflow.keras.applications.mobilenet_v2 import preprocess_input, MobileNetV2\n",
    "from tensorflow.keras.callbacks import LearningRateScheduler, ModelCheckpoint\n",
    "from tensorflow.keras.losses import CategoricalCrossentropy\n",
    "from tensorflow.keras.models import Sequential\n",
    "from tensorflow.keras.optimizers import Adam\n",
    "\n",
    "print(f\"tf.__version__ = {tf.__version__}\")"
   ]
  },
  {
   "cell_type": "code",
   "execution_count": null,
   "metadata": {
    "colab": {},
    "colab_type": "code",
    "id": "0yfTZXb3Phxc"
   },
   "outputs": [],
   "source": [
    "CHECK_POINT_DIR = './checkpoint'\n",
    "INPUT_SIZE = 224\n",
    "BATCH_SIZE = 32\n",
    "AUTOTUNE = tf.data.experimental.AUTOTUNE"
   ]
  },
  {
   "cell_type": "code",
   "execution_count": null,
   "metadata": {
    "colab": {},
    "colab_type": "code",
    "id": "0HP4Vr0HG_8i"
   },
   "outputs": [],
   "source": [
    "(train_data_ds, val_data_ds), metadata = tfds.load(\n",
    "    name='tf_flowers',\n",
    "    split=['train[:90%]', 'train[90%:]'],\n",
    "    with_info=True,\n",
    "    as_supervised=True,\n",
    ")\n",
    "num_classes = metadata.features['label'].num_classes"
   ]
  },
  {
   "cell_type": "code",
   "execution_count": null,
   "metadata": {
    "colab": {},
    "colab_type": "code",
    "id": "Tykmft4pHKst"
   },
   "outputs": [],
   "source": [
    "AUGMENT_SIZE = 384\n",
    "\n",
    "def encode_one_hot(image, label):\n",
    "    label = tf.one_hot(label, num_classes)\n",
    "    return image, label\n",
    "\n",
    "def augment(image, label):\n",
    "    image = tf.cast(image, tf.float32)\n",
    "    shape = tf.shape(image)\n",
    "    height, width = shape[0], shape[1]\n",
    "    size = tf.minimum(height, width)\n",
    "    size = tf.cast(tf.multiply(tf.cast(size, tf.float32), 0.8), tf.int32)\n",
    "    image = tf.image.random_crop(image, size=[size, size, 3])\n",
    "    image = tf.image.random_flip_left_right(image)\n",
    "    image = tf.image.resize(image, [INPUT_SIZE, INPUT_SIZE])\n",
    "    image = preprocess_input(image)\n",
    "    return image, label\n",
    "\n",
    "train_ds = (\n",
    "    train_data_ds\n",
    "    .shuffle(4096)\n",
    "    .map(augment, num_parallel_calls=AUTOTUNE)\n",
    "    .map(encode_one_hot, num_parallel_calls=AUTOTUNE)\n",
    "    .batch(BATCH_SIZE)\n",
    "    .prefetch(AUTOTUNE)\n",
    ") "
   ]
  },
  {
   "cell_type": "code",
   "execution_count": null,
   "metadata": {
    "colab": {},
    "colab_type": "code",
    "id": "bAErYzXrLPuH"
   },
   "outputs": [],
   "source": [
    "def center_crop_and_resize(image, label):\n",
    "    image = tf.cast(image, tf.float32)\n",
    "    shape = tf.shape(image)\n",
    "    height, width = shape[0], shape[1]\n",
    "    size = tf.minimum(height, width)\n",
    "    image = tf.image.crop_to_bounding_box(image, (height - size) // 2, (width - size) // 2, size, size)\n",
    "    image = tf.image.resize(image, [INPUT_SIZE, INPUT_SIZE])\n",
    "    image = preprocess_input(image)\n",
    "    return image, label\n",
    "    \n",
    "val_ds = (\n",
    "    val_data_ds\n",
    "    .map(center_crop_and_resize, num_parallel_calls=AUTOTUNE)\n",
    "    .map(encode_one_hot, num_parallel_calls=AUTOTUNE)\n",
    "    .batch(BATCH_SIZE)\n",
    "    .prefetch(AUTOTUNE)\n",
    ")"
   ]
  },
  {
   "cell_type": "code",
   "execution_count": null,
   "metadata": {
    "colab": {},
    "colab_type": "code",
    "id": "-hjuqXDLE7SI"
   },
   "outputs": [],
   "source": [
    "base_model = MobileNetV2(\n",
    "    alpha=1.4,\n",
    "    weights='imagenet',\n",
    "    include_top=False,\n",
    "    pooling=None,\n",
    "    input_shape=(INPUT_SIZE, INPUT_SIZE, 3),\n",
    "    classes=num_classes\n",
    ")"
   ]
  },
  {
   "cell_type": "code",
   "execution_count": null,
   "metadata": {
    "colab": {},
    "colab_type": "code",
    "id": "oy8biBp2FviU"
   },
   "outputs": [],
   "source": [
    "# for layer in base_model.layers:\n",
    "#     layer.trainable = False"
   ]
  },
  {
   "cell_type": "code",
   "execution_count": null,
   "metadata": {
    "colab": {},
    "colab_type": "code",
    "id": "-Xl8LIL7E8tt"
   },
   "outputs": [],
   "source": [
    "model = Sequential()\n",
    "model.add(base_model)\n",
    "\n",
    "model.add(layers.AveragePooling2D(pool_size=(7, 7)))\n",
    "model.add(layers.Flatten())\n",
    "model.add(layers.Dropout(0.5))\n",
    "\n",
    "model.add(layers.Dense(num_classes, activation='softmax'))\n",
    "\n",
    "model.compile(\n",
    "    loss=CategoricalCrossentropy(label_smoothing=0.1), \n",
    "    # loss=SparseCategoricalCrossentropy(from_logits=True), \n",
    "    optimizer=Adam(lr=1e-4), \n",
    "    metrics=['accuracy']\n",
    ")"
   ]
  },
  {
   "cell_type": "code",
   "execution_count": null,
   "metadata": {
    "colab": {
     "base_uri": "https://localhost:8080/",
     "height": 323
    },
    "colab_type": "code",
    "id": "y_JCxJWyE_ge",
    "outputId": "90c1bf79-c90c-456d-8178-f69dbc0da9a2"
   },
   "outputs": [],
   "source": [
    "model.summary()"
   ]
  },
  {
   "cell_type": "code",
   "execution_count": null,
   "metadata": {
    "colab": {},
    "colab_type": "code",
    "id": "zF3myv5RFE3O"
   },
   "outputs": [],
   "source": [
    "DECAY_START = 1\n",
    "\n",
    "def scheduler(epoch):\n",
    "    if epoch < DECAY_START:\n",
    "        return 5e-5\n",
    "    else:\n",
    "        return max(1e-4 * np.exp(0.1 * (DECAY_START - epoch)), 1e-6)\n",
    "\n",
    "lr_callback = LearningRateScheduler(scheduler, verbose=1)"
   ]
  },
  {
   "cell_type": "code",
   "execution_count": null,
   "metadata": {
    "colab": {},
    "colab_type": "code",
    "id": "f7mkPgb_ljZh"
   },
   "outputs": [],
   "source": [
    "checkpoint_callback = ModelCheckpoint(\n",
    "    filepath=CHECK_POINT_DIR, \n",
    "    save_best_only=True, \n",
    "    monitor='val_loss', \n",
    "    mode='min', \n",
    "    verbose=1\n",
    ")"
   ]
  },
  {
   "cell_type": "code",
   "execution_count": null,
   "metadata": {
    "colab": {
     "base_uri": "https://localhost:8080/",
     "height": 1000
    },
    "colab_type": "code",
    "id": "yRXr71TcFGlr",
    "outputId": "2be768cb-39fe-496a-dcee-f0db9a4beb01"
   },
   "outputs": [],
   "source": [
    "history = model.fit(\n",
    "    train_ds,\n",
    "    validation_data=val_ds,\n",
    "    epochs=20,\n",
    "    callbacks=[lr_callback, checkpoint_callback],\n",
    "    verbose=1\n",
    ")"
   ]
  },
  {
   "cell_type": "code",
   "execution_count": null,
   "metadata": {
    "colab": {
     "base_uri": "https://localhost:8080/",
     "height": 51
    },
    "colab_type": "code",
    "id": "CgS52cBdFJaU",
    "outputId": "e856ceb8-c411-498e-f873-7610e6ef8bc0"
   },
   "outputs": [],
   "source": [
    "tf.saved_model.save(model, './saved_model')"
   ]
  },
  {
   "cell_type": "code",
   "execution_count": null,
   "metadata": {
    "colab": {},
    "colab_type": "code",
    "id": "zfPF6fcWBVWm"
   },
   "outputs": [],
   "source": [
    "import matplotlib.pyplot as plt\n",
    "\n",
    "def evaluate(val_ds):\n",
    "    num_total = 0\n",
    "    errors = []\n",
    "    for batch in val_ds:\n",
    "        images, labels = batch\n",
    "        labels = np.argmax(labels, axis=1)\n",
    "        num_total += len(images)\n",
    "        predicts = model.predict(images)\n",
    "        predicts = np.argmax(predicts, axis=1)\n",
    "        for image, label, predict in zip(images, labels, predicts):\n",
    "            if label != predict:\n",
    "                errors.append({\n",
    "                    'image': image,\n",
    "                    'label': label,\n",
    "                    'predict': predict\n",
    "                })\n",
    "    acc = 1 - len(errors) / num_total\n",
    "    return acc, errors\n",
    "\n",
    "get_label_name = metadata.features['label'].int2str\n",
    "\n",
    "def plot_errors(errors, num_col=4):\n",
    "    num_row = np.ceil(len(errors) / num_col)\n",
    "    plt.figure(figsize=(4 * num_col, 4 * num_row))\n",
    "    for idx, error in enumerate(errors):\n",
    "        plt.subplot(num_row, num_col, idx + 1)\n",
    "        image = tf.cast(((error['image'] + 1) * 127.5), tf.int32)\n",
    "        plt.imshow(image)\n",
    "        plt.title(f\"label: {get_label_name(error['label'])}, predict: {get_label_name(error['predict'])}\")\n",
    "        plt.axis('off')\n",
    "\n",
    "    plt.tight_layout()\n",
    "    plt.show()"
   ]
  },
  {
   "cell_type": "code",
   "execution_count": null,
   "metadata": {
    "colab": {
     "base_uri": "https://localhost:8080/",
     "height": 34
    },
    "colab_type": "code",
    "id": "YDhnB_RkZwa6",
    "outputId": "edfd788f-dcd1-49ec-da2e-7f5ed187c79e"
   },
   "outputs": [],
   "source": [
    "acc, errors = evaluate(val_ds)\n",
    "print(\"acc = {:.4f}\".format(acc))"
   ]
  },
  {
   "cell_type": "code",
   "execution_count": null,
   "metadata": {
    "colab": {
     "base_uri": "https://localhost:8080/",
     "height": 873
    },
    "colab_type": "code",
    "id": "pYcuLklRaUNQ",
    "outputId": "8cc59ad1-1508-410d-cfde-956b429542c3"
   },
   "outputs": [],
   "source": [
    "plot_errors(errors)"
   ]
  }
 ],
 "metadata": {
  "accelerator": "GPU",
  "colab": {
   "collapsed_sections": [],
   "name": "train_tfds.ipynb",
   "provenance": []
  },
  "kernelspec": {
   "display_name": "Python 3",
   "language": "python",
   "name": "python3"
  },
  "language_info": {
   "codemirror_mode": {
    "name": "ipython",
    "version": 3
   },
   "file_extension": ".py",
   "mimetype": "text/x-python",
   "name": "python",
   "nbconvert_exporter": "python",
   "pygments_lexer": "ipython3",
   "version": "3.7.7"
  }
 },
 "nbformat": 4,
 "nbformat_minor": 4
}
