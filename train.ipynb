{
 "cells": [
  {
   "cell_type": "code",
   "execution_count": null,
   "metadata": {
    "colab": {},
    "colab_type": "code",
    "id": "GAlLx7waBPEH"
   },
   "outputs": [],
   "source": [
    "import os\n",
    "\n",
    "import numpy as np\n",
    "import tensorflow as tf\n",
    "from tensorflow.keras.applications.mobilenet_v2 import preprocess_input, MobileNetV2\n",
    "from tensorflow.keras.callbacks import LearningRateScheduler\n",
    "from tensorflow.keras.layers import Flatten, Dense, Dropout, AveragePooling2D\n",
    "from tensorflow.keras.losses import CategoricalCrossentropy\n",
    "from tensorflow.keras.models import Sequential\n",
    "from tensorflow.keras.optimizers import Adam\n",
    "from tensorflow.keras.preprocessing.image import ImageDataGenerator\n",
    "\n",
    "print(f\"tf.__version__ = {tf.__version__}\")"
   ]
  },
  {
   "cell_type": "code",
   "execution_count": null,
   "metadata": {
    "colab": {},
    "colab_type": "code",
    "id": "0yfTZXb3Phxc"
   },
   "outputs": [],
   "source": [
    "DATA_URL = 'https://storage.googleapis.com/download.tensorflow.org/example_images/flower_photos.tgz'\n",
    "DATA_BASE_DIR = './data'\n",
    "INPUT_SIZE = 224\n",
    "NUM_CLASSES = 5\n",
    "BATCH_SIZE = 32"
   ]
  },
  {
   "cell_type": "code",
   "execution_count": null,
   "metadata": {
    "colab": {},
    "colab_type": "code",
    "id": "yNJetsn1N_T9"
   },
   "outputs": [],
   "source": [
    "os.makedirs(DATA_BASE_DIR, exist_ok=True)\n",
    "\n",
    "data_dir = tf.keras.utils.get_file(\n",
    "    origin=DATA_URL, \n",
    "    fname=os.path.splitext(os.path.basename(DATA_URL))[0], \n",
    "    cache_dir=DATA_BASE_DIR, \n",
    "    cache_subdir='', \n",
    "    untar=True\n",
    ")"
   ]
  },
  {
   "cell_type": "code",
   "execution_count": null,
   "metadata": {
    "colab": {},
    "colab_type": "code",
    "id": "nh6cztqnN_cT"
   },
   "outputs": [],
   "source": [
    "train_generator = ImageDataGenerator(\n",
    "    preprocessing_function=preprocess_input,\n",
    "    validation_split=0.1,\n",
    "    rotation_range=20,\n",
    "    width_shift_range=0.2,\n",
    "    height_shift_range=0.2,\n",
    "    shear_range=20,\n",
    "    zoom_range=0.2,\n",
    "    horizontal_flip=True,\n",
    "    fill_mode='nearest',\n",
    ")\n",
    "\n",
    "train_iter = train_generator.flow_from_directory(\n",
    "    data_dir, \n",
    "    subset='training',\n",
    "    seed=123,\n",
    "    target_size=(INPUT_SIZE, INPUT_SIZE), \n",
    "    batch_size=BATCH_SIZE,\n",
    "    color_mode='rgb',\n",
    "    class_mode='categorical',\n",
    ")\n",
    "\n",
    "val_generator = ImageDataGenerator(\n",
    "    preprocessing_function=preprocess_input,\n",
    "    validation_split=0.1,\n",
    ")\n",
    "\n",
    "val_iter = val_generator.flow_from_directory(\n",
    "    data_dir, \n",
    "    subset='validation',\n",
    "    seed=123,\n",
    "    target_size=(INPUT_SIZE, INPUT_SIZE), \n",
    "    batch_size=BATCH_SIZE,\n",
    "    color_mode='rgb',\n",
    "    class_mode='categorical',\n",
    ")"
   ]
  },
  {
   "cell_type": "code",
   "execution_count": null,
   "metadata": {
    "colab": {},
    "colab_type": "code",
    "id": "-hjuqXDLE7SI"
   },
   "outputs": [],
   "source": [
    "base_model = MobileNetV2(\n",
    "    alpha=1.4,\n",
    "    weights='imagenet',\n",
    "    include_top=False,\n",
    "    pooling=None,\n",
    "    input_shape=(INPUT_SIZE, INPUT_SIZE, 3),\n",
    "    classes=NUM_CLASSES\n",
    ")"
   ]
  },
  {
   "cell_type": "code",
   "execution_count": null,
   "metadata": {
    "colab": {},
    "colab_type": "code",
    "id": "oy8biBp2FviU"
   },
   "outputs": [],
   "source": [
    "# for layer in base_model.layers:\n",
    "#     layer.trainable = False"
   ]
  },
  {
   "cell_type": "code",
   "execution_count": null,
   "metadata": {
    "colab": {},
    "colab_type": "code",
    "id": "-Xl8LIL7E8tt"
   },
   "outputs": [],
   "source": [
    "model = Sequential()\n",
    "model.add(base_model)\n",
    "\n",
    "model.add(AveragePooling2D(pool_size=(7, 7)))\n",
    "model.add(Flatten())\n",
    "model.add(Dropout(0.5))\n",
    "\n",
    "model.add(Dense(NUM_CLASSES, activation='softmax'))\n",
    "\n",
    "model.compile(\n",
    "    loss=CategoricalCrossentropy(label_smoothing=0.1), \n",
    "    optimizer=Adam(lr=1e-4), \n",
    "    metrics=['accuracy']\n",
    ")"
   ]
  },
  {
   "cell_type": "code",
   "execution_count": null,
   "metadata": {
    "colab": {},
    "colab_type": "code",
    "id": "y_JCxJWyE_ge"
   },
   "outputs": [],
   "source": [
    "model.summary()"
   ]
  },
  {
   "cell_type": "code",
   "execution_count": null,
   "metadata": {
    "colab": {},
    "colab_type": "code",
    "id": "zF3myv5RFE3O"
   },
   "outputs": [],
   "source": [
    "DECAY_START = 1\n",
    "\n",
    "def scheduler(epoch):\n",
    "    if epoch < DECAY_START:\n",
    "        return 5e-5\n",
    "    else:\n",
    "        return max(1e-4 * np.exp(0.3 * (DECAY_START - epoch)), 1e-7)\n",
    "\n",
    "lr_scheduler = LearningRateScheduler(scheduler, verbose=1)"
   ]
  },
  {
   "cell_type": "code",
   "execution_count": null,
   "metadata": {
    "colab": {},
    "colab_type": "code",
    "id": "yRXr71TcFGlr"
   },
   "outputs": [],
   "source": [
    "history = model.fit(\n",
    "    train_iter,\n",
    "    steps_per_epoch=len(train_iter),\n",
    "    validation_data=val_iter,\n",
    "    validation_steps=len(val_iter),\n",
    "    epochs=20,\n",
    "    callbacks=[lr_scheduler],\n",
    "    verbose=1\n",
    ")"
   ]
  },
  {
   "cell_type": "code",
   "execution_count": null,
   "metadata": {
    "colab": {},
    "colab_type": "code",
    "id": "CgS52cBdFJaU"
   },
   "outputs": [],
   "source": [
    "tf.saved_model.save(model, './saved_model')"
   ]
  },
  {
   "cell_type": "code",
   "execution_count": null,
   "metadata": {
    "colab": {},
    "colab_type": "code",
    "id": "PrHqikHoFKxn"
   },
   "outputs": [],
   "source": [
    "import utils\n",
    "\n",
    "df_result = utils.evaluate(model, val_iter)\n",
    "df_wrong = df_result.loc[df_result['y'] != df_result['y_hat'], ]\n",
    "utils.plot_images(df_wrong)"
   ]
  }
 ],
 "metadata": {
  "accelerator": "GPU",
  "colab": {
   "collapsed_sections": [],
   "name": "train.ipynb",
   "provenance": []
  },
  "kernelspec": {
   "display_name": "Python 3",
   "language": "python",
   "name": "python3"
  },
  "language_info": {
   "codemirror_mode": {
    "name": "ipython",
    "version": 3
   },
   "file_extension": ".py",
   "mimetype": "text/x-python",
   "name": "python",
   "nbconvert_exporter": "python",
   "pygments_lexer": "ipython3",
   "version": "3.7.7"
  }
 },
 "nbformat": 4,
 "nbformat_minor": 4
}
