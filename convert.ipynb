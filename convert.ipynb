{
 "nbformat": 4,
 "nbformat_minor": 0,
 "metadata": {
  "accelerator": "GPU",
  "colab": {
   "name": "convert.ipynb",
   "provenance": [],
   "collapsed_sections": []
  },
  "kernelspec": {
   "display_name": "Python 3",
   "language": "python",
   "name": "python3"
  },
  "language_info": {
   "codemirror_mode": {
    "name": "ipython",
    "version": 3
   },
   "file_extension": ".py",
   "mimetype": "text/x-python",
   "name": "python",
   "nbconvert_exporter": "python",
   "pygments_lexer": "ipython3",
   "version": "3.7.7"
  }
 },
 "cells": [
  {
   "cell_type": "code",
   "metadata": {
    "colab_type": "code",
    "id": "UGqo15rxeaLd",
    "colab": {}
   },
   "source": [
    "import os\n",
    "\n",
    "import numpy as np\n",
    "import tensorflow as tf\n",
    "import tensorflow_datasets as tfds\n",
    "from tensorflow.keras.applications.mobilenet_v2 import preprocess_input\n",
    "from tqdm import tqdm"
   ],
   "execution_count": 1,
   "outputs": []
  },
  {
   "cell_type": "code",
   "metadata": {
    "colab_type": "code",
    "id": "tfJUD54fGMR6",
    "colab": {}
   },
   "source": [
    "SAVED_MODEL_DIR = './saved_model'\n",
    "OUTPUT_DIR = './tflite_model'\n",
    "INPUT_SIZE = 224\n",
    "AUTOTUNE = tf.data.experimental.AUTOTUNE"
   ],
   "execution_count": 2,
   "outputs": []
  },
  {
   "cell_type": "code",
   "metadata": {
    "id": "ywejzQWx8rj9",
    "colab_type": "code",
    "colab": {}
   },
   "source": [
    "os.makedirs(OUTPUT_DIR, exist_ok=True)"
   ],
   "execution_count": 3,
   "outputs": []
  },
  {
   "cell_type": "code",
   "metadata": {
    "id": "cONBfvhbEiDa",
    "colab_type": "code",
    "colab": {}
   },
   "source": [
    "(train_data_ds, val_data_ds), metadata = tfds.load(\n",
    "    name='tf_flowers',\n",
    "    split=['train[:90%]', 'train[90%:]'],\n",
    "    with_info=True,\n",
    "    as_supervised=True,\n",
    ")"
   ],
   "execution_count": 4,
   "outputs": []
  },
  {
   "cell_type": "code",
   "metadata": {
    "id": "qtSTZrP-LHHp",
    "colab_type": "code",
    "colab": {}
   },
   "source": [
    "def center_crop_and_resize(image, label):\n",
    "    image = tf.cast(image, tf.float32)\n",
    "    shape = tf.shape(image)\n",
    "    height, width = shape[0], shape[1]\n",
    "    size = tf.minimum(height, width)\n",
    "    image = tf.image.crop_to_bounding_box(image, (height - size) // 2, (width - size) // 2, size, size)\n",
    "    image = tf.image.resize(image, [INPUT_SIZE, INPUT_SIZE])\n",
    "    image = preprocess_input(image)\n",
    "    return image, label\n",
    "\n",
    "val_ds = (\n",
    "    val_data_ds\n",
    "    .map(center_crop_and_resize, num_parallel_calls=AUTOTUNE)\n",
    "    .batch(1)\n",
    "    .prefetch(AUTOTUNE)\n",
    ")"
   ],
   "execution_count": 5,
   "outputs": []
  },
  {
   "cell_type": "code",
   "metadata": {
    "id": "EpBQtwAA87Wk",
    "colab_type": "code",
    "colab": {}
   },
   "source": [
    "def evaluate_tflite_model(model_path, val_ds):\n",
    "    interpreter = tf.lite.Interpreter(model_path=model_path)\n",
    "    interpreter.allocate_tensors()\n",
    "    input_details = interpreter.get_input_details()\n",
    "    output_details = interpreter.get_output_details()\n",
    "\n",
    "    count, acc = 0, 0\n",
    "    loop = tqdm(val_ds, ascii=True)\n",
    "    for i, (data, label) in enumerate(loop):\n",
    "        interpreter.set_tensor(input_details[0]['index'], data)\n",
    "        interpreter.invoke()\n",
    "        predictions = interpreter.get_tensor(output_details[0]['index'])\n",
    "\n",
    "        count += 1\n",
    "        if np.argmax(predictions) == label:\n",
    "            acc += 1\n",
    "        loop.set_postfix(acc=\"{:.4f}\".format(acc / count))\n",
    "\n",
    "    loop.close()\n",
    "    return acc / count"
   ],
   "execution_count": 6,
   "outputs": []
  },
  {
   "cell_type": "markdown",
   "metadata": {
    "colab_type": "text",
    "id": "TlAhneCTaXPD"
   },
   "source": [
    "## No quantization"
   ]
  },
  {
   "cell_type": "code",
   "metadata": {
    "colab_type": "code",
    "id": "OJ8zE8rxE9S6",
    "colab": {}
   },
   "source": [
    "converter = tf.lite.TFLiteConverter.from_saved_model(SAVED_MODEL_DIR)\n",
    "tflite_model = converter.convert()\n",
    "\n",
    "model_path = os.path.join(OUTPUT_DIR, 'model_full.tflite')\n",
    "with open(model_path, 'wb') as f:\n",
    "    f.write(tflite_model)"
   ],
   "execution_count": 7,
   "outputs": []
  },
  {
   "cell_type": "code",
   "metadata": {
    "colab_type": "code",
    "id": "nB-IyAwvTfw9",
    "colab": {
     "base_uri": "https://localhost:8080/",
     "height": 51
    },
    "outputId": "750dcb78-cbe5-4485-960b-b75b61713393"
   },
   "source": [
    "evaluate_tflite_model(model_path, val_ds)"
   ],
   "execution_count": 8,
   "outputs": [
    {
     "output_type": "stream",
     "text": [
      "367it [00:15, 23.09it/s, acc=0.9755]\n"
     ],
     "name": "stderr"
    },
    {
     "output_type": "execute_result",
     "data": {
      "text/plain": [
       "0.9754768392370572"
      ]
     },
     "metadata": {
      "tags": []
     },
     "execution_count": 8
    }
   ]
  },
  {
   "cell_type": "markdown",
   "metadata": {
    "colab_type": "text",
    "id": "z6s93Cp-acUJ"
   },
   "source": [
    "## Float16 quantization"
   ]
  },
  {
   "cell_type": "code",
   "metadata": {
    "colab_type": "code",
    "id": "OQT5DmJOHAuR",
    "colab": {}
   },
   "source": [
    "converter = tf.lite.TFLiteConverter.from_saved_model(SAVED_MODEL_DIR)\n",
    "converter.optimizations = [tf.lite.Optimize.DEFAULT]\n",
    "converter.target_spec.supported_types = [tf.float16]\n",
    "tflite_model = converter.convert()\n",
    "\n",
    "model_path = os.path.join(OUTPUT_DIR, 'model_float16.tflite')\n",
    "with open(model_path, 'wb') as f:\n",
    "    f.write(tflite_model)"
   ],
   "execution_count": 9,
   "outputs": []
  },
  {
   "cell_type": "code",
   "metadata": {
    "colab_type": "code",
    "id": "Ni0HnPS8TrDw",
    "colab": {
     "base_uri": "https://localhost:8080/",
     "height": 51
    },
    "outputId": "6b712971-8240-4f2a-f496-b5154bff6eae"
   },
   "source": [
    "evaluate_tflite_model(model_path, val_ds)"
   ],
   "execution_count": 10,
   "outputs": [
    {
     "output_type": "stream",
     "text": [
      "367it [00:15, 23.00it/s, acc=0.9728]\n"
     ],
     "name": "stderr"
    },
    {
     "output_type": "execute_result",
     "data": {
      "text/plain": [
       "0.9727520435967303"
      ]
     },
     "metadata": {
      "tags": []
     },
     "execution_count": 10
    }
   ]
  },
  {
   "cell_type": "markdown",
   "metadata": {
    "colab_type": "text",
    "id": "Kjb0O6zVaDbz"
   },
   "source": [
    "## Dynamic range quantization"
   ]
  },
  {
   "cell_type": "code",
   "metadata": {
    "colab_type": "code",
    "id": "LIC1YmuYFqCz",
    "colab": {}
   },
   "source": [
    "converter = tf.lite.TFLiteConverter.from_saved_model(SAVED_MODEL_DIR)\n",
    "converter.optimizations = [tf.lite.Optimize.DEFAULT]\n",
    "tflite_model = converter.convert()\n",
    "\n",
    "model_path = os.path.join(OUTPUT_DIR, 'model_default.tflite')\n",
    "with open(model_path, 'wb') as f:\n",
    "    f.write(tflite_model)"
   ],
   "execution_count": 11,
   "outputs": []
  },
  {
   "cell_type": "code",
   "metadata": {
    "colab_type": "code",
    "id": "xHHRUqpoTu5u",
    "colab": {
     "base_uri": "https://localhost:8080/",
     "height": 51
    },
    "outputId": "63497e59-cc96-4c76-c594-4a5b98257418"
   },
   "source": [
    "evaluate_tflite_model(model_path, val_ds)"
   ],
   "execution_count": 12,
   "outputs": [
    {
     "output_type": "stream",
     "text": [
      "367it [00:34, 10.69it/s, acc=0.7384]\n"
     ],
     "name": "stderr"
    },
    {
     "output_type": "execute_result",
     "data": {
      "text/plain": [
       "0.7384196185286104"
      ]
     },
     "metadata": {
      "tags": []
     },
     "execution_count": 12
    }
   ]
  },
  {
   "cell_type": "markdown",
   "metadata": {
    "colab_type": "text",
    "id": "WxHkxeqlaQCZ"
   },
   "source": [
    "## Integer quantization with float fallback"
   ]
  },
  {
   "cell_type": "code",
   "metadata": {
    "id": "AqkbcGIJQTGf",
    "colab_type": "code",
    "colab": {}
   },
   "source": [
    "repr_ds = (\n",
    "    val_data_ds\n",
    "    .map(center_crop_and_resize, num_parallel_calls=AUTOTUNE)\n",
    "    .batch(100)\n",
    "    .prefetch(AUTOTUNE)\n",
    ")\n",
    "\n",
    "batch_image, _ = next(iter(repr_ds))\n",
    "\n",
    "def representative_dataset_gen():\n",
    "    for i in range(100):\n",
    "        yield [batch_image[i:i+1, ]]"
   ],
   "execution_count": 13,
   "outputs": []
  },
  {
   "cell_type": "code",
   "metadata": {
    "colab_type": "code",
    "id": "cziA2GnaH4FP",
    "colab": {}
   },
   "source": [
    "converter = tf.lite.TFLiteConverter.from_saved_model(SAVED_MODEL_DIR)\n",
    "converter.optimizations = [tf.lite.Optimize.DEFAULT]\n",
    "\n",
    "converter.representative_dataset = representative_dataset_gen\n",
    "tflite_model = converter.convert()\n",
    "\n",
    "model_path = os.path.join(OUTPUT_DIR, 'model_int8.tflite')\n",
    "with open(model_path, 'wb') as f:\n",
    "    f.write(tflite_model)"
   ],
   "execution_count": 14,
   "outputs": []
  },
  {
   "cell_type": "code",
   "metadata": {
    "colab_type": "code",
    "id": "T3re1PstT00a",
    "colab": {
     "base_uri": "https://localhost:8080/",
     "height": 51
    },
    "outputId": "7cd2c90d-bec6-418a-e90c-dd4ef27176ae"
   },
   "source": [
    "evaluate_tflite_model(model_path, val_ds)"
   ],
   "execution_count": 15,
   "outputs": [
    {
     "output_type": "stream",
     "text": [
      "367it [12:08,  1.99s/it, acc=0.9646]\n"
     ],
     "name": "stderr"
    },
    {
     "output_type": "execute_result",
     "data": {
      "text/plain": [
       "0.9645776566757494"
      ]
     },
     "metadata": {
      "tags": []
     },
     "execution_count": 15
    }
   ]
  }
 ]
}