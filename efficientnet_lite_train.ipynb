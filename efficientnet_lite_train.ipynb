{
  "nbformat": 4,
  "nbformat_minor": 0,
  "metadata": {
    "accelerator": "GPU",
    "colab": {
      "name": "efficientnet_lite_train.ipynb",
      "provenance": [],
      "collapsed_sections": []
    },
    "kernelspec": {
      "display_name": "Python 3",
      "language": "python",
      "name": "python3"
    },
    "language_info": {
      "codemirror_mode": {
        "name": "ipython",
        "version": 3
      },
      "file_extension": ".py",
      "mimetype": "text/x-python",
      "name": "python",
      "nbconvert_exporter": "python",
      "pygments_lexer": "ipython3",
      "version": "3.7.7"
    }
  },
  "cells": [
    {
      "cell_type": "code",
      "metadata": {
        "colab_type": "code",
        "id": "GAlLx7waBPEH",
        "colab": {}
      },
      "source": [
        "import numpy as np\n",
        "import tensorflow as tf\n",
        "import tensorflow_hub as hub\n",
        "import tensorflow.keras.layers as layers\n",
        "import tensorflow_datasets as tfds\n",
        "# from tensorflow.keras.applications.mobilenet_v2 import preprocess_input, MobileNetV2\n",
        "# from tensorflow.keras.applications.imagenet_utils import preprocess_input\n",
        "from tensorflow.keras.callbacks import LearningRateScheduler, ModelCheckpoint\n",
        "from tensorflow.keras.losses import CategoricalCrossentropy\n",
        "from tensorflow.keras.models import Sequential\n",
        "from tensorflow.keras.optimizers import Adam\n",
        "\n",
        "print(f\"tf.__version__ = {tf.__version__}\")"
      ],
      "execution_count": null,
      "outputs": []
    },
    {
      "cell_type": "code",
      "metadata": {
        "colab_type": "code",
        "id": "0yfTZXb3Phxc",
        "colab": {}
      },
      "source": [
        "FEATURE_EXTRACTOR_URL = \"https://tfhub.dev/tensorflow/efficientnet/b0/classification/1\"\n",
        "CHECK_POINT_DIR = './checkpoint'\n",
        "INPUT_SIZE = 224\n",
        "BATCH_SIZE = 32\n",
        "AUTOTUNE = tf.data.experimental.AUTOTUNE"
      ],
      "execution_count": null,
      "outputs": []
    },
    {
      "cell_type": "code",
      "metadata": {
        "id": "0HP4Vr0HG_8i",
        "colab_type": "code",
        "colab": {}
      },
      "source": [
        "(train_data_ds, val_data_ds), metadata = tfds.load(\n",
        "    name='tf_flowers',\n",
        "    split=['train[:90%]', 'train[90%:]'],\n",
        "    with_info=True,\n",
        "    as_supervised=True,\n",
        ")\n",
        "num_classes = metadata.features['label'].num_classes"
      ],
      "execution_count": null,
      "outputs": []
    },
    {
      "cell_type": "code",
      "metadata": {
        "id": "Tykmft4pHKst",
        "colab_type": "code",
        "colab": {}
      },
      "source": [
        "def resize_and_rescale(image, label):\n",
        "    image = tf.image.resize(image, [INPUT_SIZE, INPUT_SIZE])\n",
        "    image = (image / 255.0)\n",
        "    return image, label\n",
        "\n",
        "def encode_one_hot(image, label):\n",
        "    label = tf.one_hot(label, num_classes)\n",
        "    return image, label\n",
        "\n",
        "def augment(image, label):\n",
        "    image = tf.cast(image, tf.float32)\n",
        "    shape = tf.shape(image)\n",
        "    height, width = shape[0], shape[1]\n",
        "    size = tf.minimum(height, width)\n",
        "    size = tf.cast(tf.multiply(tf.cast(size, tf.float32), 0.8), tf.int32)\n",
        "    image = tf.image.random_crop(image, size=[size, size, 3])\n",
        "    image = tf.image.random_flip_left_right(image)\n",
        "    return image, label\n",
        "\n",
        "train_ds = (\n",
        "    train_data_ds\n",
        "    .shuffle(4096)\n",
        "    .map(augment, num_parallel_calls=AUTOTUNE)\n",
        "    .map(resize_and_rescale, num_parallel_calls=AUTOTUNE)\n",
        "    .map(encode_one_hot, num_parallel_calls=AUTOTUNE)\n",
        "    .batch(BATCH_SIZE)\n",
        "    .prefetch(AUTOTUNE)\n",
        ") "
      ],
      "execution_count": null,
      "outputs": []
    },
    {
      "cell_type": "code",
      "metadata": {
        "id": "bAErYzXrLPuH",
        "colab_type": "code",
        "colab": {}
      },
      "source": [
        "def center_crop(image, label):\n",
        "    image = tf.cast(image, tf.float32)\n",
        "    shape = tf.shape(image)\n",
        "    height, width = shape[0], shape[1]\n",
        "    size = tf.minimum(height, width)\n",
        "    image = tf.image.crop_to_bounding_box(image, (height - size) // 2, (width - size) // 2, size, size)\n",
        "    return image, label\n",
        "    \n",
        "val_ds = (\n",
        "    val_data_ds\n",
        "    .map(center_crop, num_parallel_calls=AUTOTUNE)\n",
        "    .map(resize_and_rescale, num_parallel_calls=AUTOTUNE)\n",
        "    .map(encode_one_hot, num_parallel_calls=AUTOTUNE)\n",
        "    .batch(BATCH_SIZE)\n",
        "    .prefetch(AUTOTUNE)\n",
        ")"
      ],
      "execution_count": null,
      "outputs": []
    },
    {
      "cell_type": "code",
      "metadata": {
        "id": "b85bJ9chuc9a",
        "colab_type": "code",
        "colab": {}
      },
      "source": [
        "base_model = hub.KerasLayer(FEATURE_EXTRACTOR_URL, input_shape=(INPUT_SIZE, INPUT_SIZE, 3))"
      ],
      "execution_count": null,
      "outputs": []
    },
    {
      "cell_type": "code",
      "metadata": {
        "colab_type": "code",
        "id": "oy8biBp2FviU",
        "colab": {}
      },
      "source": [
        "base_model.trainable = True"
      ],
      "execution_count": null,
      "outputs": []
    },
    {
      "cell_type": "code",
      "metadata": {
        "colab_type": "code",
        "id": "-Xl8LIL7E8tt",
        "colab": {}
      },
      "source": [
        "model = Sequential()\n",
        "model.add(base_model)\n",
        "\n",
        "# model.add(layers.AveragePooling2D(pool_size=(7, 7)))\n",
        "# model.add(layers.Flatten())\n",
        "# model.add(layers.Dropout(0.5))\n",
        "\n",
        "model.add(layers.Dense(num_classes, activation='softmax'))\n",
        "\n",
        "model.compile(\n",
        "    loss=CategoricalCrossentropy(label_smoothing=0.1), \n",
        "    optimizer=Adam(lr=1e-4), \n",
        "    metrics=['accuracy']\n",
        ")"
      ],
      "execution_count": null,
      "outputs": []
    },
    {
      "cell_type": "code",
      "metadata": {
        "colab_type": "code",
        "id": "y_JCxJWyE_ge",
        "colab": {}
      },
      "source": [
        "model.summary()"
      ],
      "execution_count": null,
      "outputs": []
    },
    {
      "cell_type": "code",
      "metadata": {
        "colab_type": "code",
        "id": "zF3myv5RFE3O",
        "colab": {}
      },
      "source": [
        "DECAY_START = 2\n",
        "\n",
        "def scheduler(epoch):\n",
        "    if epoch < DECAY_START:\n",
        "        return 1e-4\n",
        "    else:\n",
        "        return max(1e-4 * np.exp(0.1 * (DECAY_START - epoch)), 1e-6)\n",
        "\n",
        "lr_callback = LearningRateScheduler(scheduler, verbose=1)"
      ],
      "execution_count": null,
      "outputs": []
    },
    {
      "cell_type": "code",
      "metadata": {
        "id": "f7mkPgb_ljZh",
        "colab_type": "code",
        "colab": {}
      },
      "source": [
        "checkpoint_callback = ModelCheckpoint(\n",
        "    filepath=CHECK_POINT_DIR, \n",
        "    save_best_only=True, \n",
        "    monitor='val_loss', \n",
        "    mode='min', \n",
        "    verbose=1\n",
        ")"
      ],
      "execution_count": null,
      "outputs": []
    },
    {
      "cell_type": "code",
      "metadata": {
        "colab_type": "code",
        "id": "yRXr71TcFGlr",
        "colab": {}
      },
      "source": [
        "history = model.fit(\n",
        "    train_ds,\n",
        "    validation_data=val_ds,\n",
        "    epochs=20,\n",
        "    callbacks=[lr_callback, checkpoint_callback],\n",
        "    verbose=1\n",
        ")"
      ],
      "execution_count": null,
      "outputs": []
    },
    {
      "cell_type": "code",
      "metadata": {
        "colab_type": "code",
        "id": "CgS52cBdFJaU",
        "colab": {}
      },
      "source": [
        "tf.saved_model.save(model, './saved_model_efficienet_lite_b0_9700')"
      ],
      "execution_count": null,
      "outputs": []
    },
    {
      "cell_type": "code",
      "metadata": {
        "id": "mZVwlc-L0SQW",
        "colab_type": "code",
        "colab": {}
      },
      "source": [
        "!zip -r saved_model_efficienet_lite_b0_9700.zip saved_model_efficienet_lite_b0_9700"
      ],
      "execution_count": null,
      "outputs": []
    },
    {
      "cell_type": "code",
      "metadata": {
        "id": "zfPF6fcWBVWm",
        "colab_type": "code",
        "colab": {}
      },
      "source": [
        "import matplotlib.pyplot as plt\n",
        "\n",
        "def evaluate(val_ds):\n",
        "    num_total = 0\n",
        "    errors = []\n",
        "    for batch in val_ds:\n",
        "        images, labels = batch\n",
        "        labels = np.argmax(labels, axis=1)\n",
        "        num_total += len(images)\n",
        "        predicts = model.predict(images)\n",
        "        predicts = np.argmax(predicts, axis=1)\n",
        "        for image, label, predict in zip(images, labels, predicts):\n",
        "            if label != predict:\n",
        "                errors.append({\n",
        "                    'image': image,\n",
        "                    'label': label,\n",
        "                    'predict': predict\n",
        "                })\n",
        "    acc = 1 - len(errors) / num_total\n",
        "    return acc, errors\n",
        "\n",
        "get_label_name = metadata.features['label'].int2str\n",
        "\n",
        "def plot_errors(errors, num_col=4):\n",
        "    num_row = np.ceil(len(errors) / num_col)\n",
        "    plt.figure(figsize=(4 * num_col, 4 * num_row))\n",
        "    for idx, error in enumerate(errors):\n",
        "        plt.subplot(num_row, num_col, idx + 1)\n",
        "        image = tf.cast(((error['image'] + 1) * 127.5), tf.int32)\n",
        "        plt.imshow(image)\n",
        "        plt.title(f\"label: {get_label_name(error['label'])}, predict: {get_label_name(error['predict'])}\")\n",
        "        plt.axis('off')\n",
        "\n",
        "    plt.tight_layout()\n",
        "    plt.show()"
      ],
      "execution_count": null,
      "outputs": []
    },
    {
      "cell_type": "code",
      "metadata": {
        "id": "YDhnB_RkZwa6",
        "colab_type": "code",
        "colab": {}
      },
      "source": [
        "acc, errors = evaluate(val_ds)\n",
        "print(\"acc = {:.4f}\".format(acc))"
      ],
      "execution_count": null,
      "outputs": []
    },
    {
      "cell_type": "code",
      "metadata": {
        "id": "pYcuLklRaUNQ",
        "colab_type": "code",
        "colab": {}
      },
      "source": [
        "plot_errors(errors)"
      ],
      "execution_count": null,
      "outputs": []
    },
    {
      "cell_type": "code",
      "metadata": {
        "id": "u5D4eLDpTj1t",
        "colab_type": "code",
        "colab": {}
      },
      "source": [
        ""
      ],
      "execution_count": null,
      "outputs": []
    },
    {
      "cell_type": "code",
      "metadata": {
        "id": "Ro12uiHETj4f",
        "colab_type": "code",
        "colab": {}
      },
      "source": [
        ""
      ],
      "execution_count": null,
      "outputs": []
    },
    {
      "cell_type": "code",
      "metadata": {
        "id": "sPI7YRYKTj6x",
        "colab_type": "code",
        "colab": {}
      },
      "source": [
        "x = [[[1, 2, 3],\n",
        "      [4, 5, 6]],\n",
        "    [[7, 8, 9],\n",
        "      [10, 11, 255]]]"
      ],
      "execution_count": null,
      "outputs": []
    },
    {
      "cell_type": "code",
      "metadata": {
        "id": "ab0vhdfcUalK",
        "colab_type": "code",
        "colab": {}
      },
      "source": [
        "x = np.array(x).astype(np.uint8)"
      ],
      "execution_count": null,
      "outputs": []
    },
    {
      "cell_type": "code",
      "metadata": {
        "id": "3QScZ1XMTlnJ",
        "colab_type": "code",
        "colab": {}
      },
      "source": [
        "tf.image.convert_image_dtype(x, dtype=tf.float32)"
      ],
      "execution_count": null,
      "outputs": []
    },
    {
      "cell_type": "code",
      "metadata": {
        "id": "CRz6sF2pTnFV",
        "colab_type": "code",
        "colab": {}
      },
      "source": [
        "1 / 255"
      ],
      "execution_count": null,
      "outputs": []
    },
    {
      "cell_type": "code",
      "metadata": {
        "id": "CLxobLqVUlv7",
        "colab_type": "code",
        "colab": {}
      },
      "source": [
        ""
      ],
      "execution_count": null,
      "outputs": []
    }
  ]
}